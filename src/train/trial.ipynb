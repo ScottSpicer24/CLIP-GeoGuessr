{
 "cells": [
  {
   "cell_type": "markdown",
   "metadata": {},
   "source": [
    "CLIP-GeoGuessr"
   ]
  },
  {
   "cell_type": "code",
   "execution_count": 1,
   "metadata": {},
   "outputs": [
    {
     "name": "stderr",
     "output_type": "stream",
     "text": [
      "c:\\Users\\Owner\\.conda\\envs\\CLIP-GG\\lib\\site-packages\\tqdm\\auto.py:21: TqdmWarning: IProgress not found. Please update jupyter and ipywidgets. See https://ipywidgets.readthedocs.io/en/stable/user_install.html\n",
      "  from .autonotebook import tqdm as notebook_tqdm\n"
     ]
    }
   ],
   "source": [
    "import torch\n",
    "import clip\n",
    "from PIL import Image\n",
    "from datasets import load_dataset"
   ]
  },
  {
   "cell_type": "code",
   "execution_count": 3,
   "metadata": {},
   "outputs": [
    {
     "name": "stdout",
     "output_type": "stream",
     "text": [
      "OSV5M {'full': True, 'name': 'osv5m', 'hash': '0ac7fc681aace0f00245c6dea7848bcb0e424845081905154c1adb5f9bf8f19e', 'base_path': 'https://huggingface.co/datasets/osv5m/osv5m/resolve/main', 'token': None, 'use_auth_token': None, 'repo_id': 'osv5m/osv5m', 'storage_options': {'hf': {'token': None, 'endpoint': 'https://huggingface.co'}}, 'dataset_name': 'osv5m', '_writer_batch_size': None, 'config_kwargs': {}, 'config': BuilderConfig(name='default', version=0.0.0, data_dir=None, data_files=None, description=None), 'config_id': 'default', 'info': DatasetInfo(description='', citation='', homepage='', license='', features={'image': Image(mode=None, decode=True, id=None), 'latitude': Value(dtype='float32', id=None), 'longitude': Value(dtype='float32', id=None), 'thumb_original_url': Value(dtype='string', id=None), 'country': Value(dtype='string', id=None), 'sequence': Value(dtype='string', id=None), 'captured_at': Value(dtype='string', id=None), 'lon_bin': Value(dtype='float32', id=None), 'lat_bin': Value(dtype='float32', id=None), 'cell': Value(dtype='string', id=None), 'region': Value(dtype='string', id=None), 'sub-region': Value(dtype='string', id=None), 'city': Value(dtype='string', id=None), 'land_cover': Value(dtype='float32', id=None), 'road_index': Value(dtype='float32', id=None), 'drive_side': Value(dtype='float32', id=None), 'climate': Value(dtype='float32', id=None), 'soil': Value(dtype='float32', id=None), 'dist_sea': Value(dtype='float32', id=None), 'quadtree_10_5000': Value(dtype='int32', id=None), 'quadtree_10_25000': Value(dtype='int32', id=None), 'quadtree_10_1000': Value(dtype='int32', id=None), 'quadtree_10_50000': Value(dtype='int32', id=None), 'quadtree_10_12500': Value(dtype='int32', id=None), 'quadtree_10_500': Value(dtype='int32', id=None), 'quadtree_10_2500': Value(dtype='int32', id=None), 'unique_region': Value(dtype='string', id=None), 'unique_sub-region': Value(dtype='string', id=None), 'unique_city': Value(dtype='string', id=None), 'unique_country': Value(dtype='string', id=None), 'creator_username': Value(dtype='string', id=None), 'creator_id': Value(dtype='string', id=None)}, post_processed=None, supervised_keys=None, task_templates=None, builder_name='osv5m', dataset_name='osv5m', config_name='default', version=0.0.0, splits=None, download_checksums=None, download_size=None, post_processing_size=None, dataset_size=None, size_in_bytes=None), '_cache_dir_root': 'C:\\\\Users\\\\Owner\\\\.cache\\\\huggingface\\\\datasets', '_cache_downloaded_dir': 'C:\\\\Users\\\\Owner\\\\.cache\\\\huggingface\\\\datasets\\\\downloads', '_legacy_relative_data_dir': None, '_cache_dir': 'C:\\\\Users\\\\Owner\\\\.cache\\\\huggingface\\\\datasets/osv5m___osv5m/default/0.0.0/0ac7fc681aace0f00245c6dea7848bcb0e424845081905154c1adb5f9bf8f19e', '_output_dir': 'C:\\\\Users\\\\Owner\\\\.cache\\\\huggingface\\\\datasets/osv5m___osv5m/default/0.0.0/0ac7fc681aace0f00245c6dea7848bcb0e424845081905154c1adb5f9bf8f19e', '_fs': <fsspec.implementations.local.LocalFileSystem object at 0x000001A147A114C0>, 'dl_manager': None, '_record_infos': False, '_file_format': None}\n"
     ]
    }
   ],
   "source": [
    "# Select device, load model, load dataset\n",
    "device = \"cuda\" if torch.cuda.is_available() else \"cpu\"\n",
    "model, preprocess = clip.load(\"ViT-B/32\", device=device)\n",
    "dataset = load_dataset('osv5m/osv5m', full=True, split='train', streaming=True, trust_remote_code=True) # Stream the data due to the size"
   ]
  },
  {
   "cell_type": "code",
   "execution_count": 4,
   "metadata": {},
   "outputs": [
    {
     "name": "stdout",
     "output_type": "stream",
     "text": [
      "Example 1:\n",
      "{'image': <PIL.JpegImagePlugin.JpegImageFile image mode=RGB size=910x512 at 0x1A1F86EF820>, 'latitude': 57.131566999721, 'longitude': 18.280254000263, 'thumb_original_url': 'https://scontent-cdg4-3.xx.fbcdn.net/m1/v/t6/An_SqtuB63-uVMz6cjmwEVjGC4m_4fgc1SB-6pe30vBJDOQm5qxN7UgRDcHq5Y8Z-ggB0729NyONaZnvEBeJWnHQmhfGZ7o4GaLZqbAuf33my8OsWrZZguC1-9PAtlZfBas-Hw7uN8NeC4VQP_Y5gQ?ccb=10-5&oh=00_AfAvEAei1-B9qRtaLIDtNUtBVpcBetznGrKO6403XR4htg&oe=650F7C36&_nc_sid=201bca', 'country': 'SE', 'sequence': 'sb4cbeemh8ri4o6u74zbn2', 'captured_at': '1600512798000', 'lon_bin': 54.0, 'lat_bin': 83.0, 'cell': '(54, 83)', 'region': 'Gotland', 'sub-region': 'Gotland', 'city': 'Hemse', 'land_cover': 3.0, 'road_index': 5.48136282, 'drive_side': 0.0, 'climate': 26.0, 'soil': 9.0, 'dist_sea': 0.0159298115902005, 'quadtree_10_5000': 2510, 'quadtree_10_25000': 455, 'quadtree_10_1000': 10357, 'quadtree_10_50000': 237, 'quadtree_10_12500': 965, 'quadtree_10_500': 16434, 'quadtree_10_2500': 4816, 'unique_region': 'Gotland_SE', 'unique_sub-region': 'Gotland_Gotland_SE', 'unique_city': 'Hemse_Gotland_Gotland_SE', 'unique_country': 'SE', 'creator_username': 'roadroid', 'creator_id': '111336221091714.0'}\n",
      "----------------------------------------------------\n",
      "Example 2:\n",
      "{'image': <PIL.JpegImagePlugin.JpegImageFile image mode=RGB size=768x512 at 0x1A1F9AC4A90>, 'latitude': -17.303386729494072, 'longitude': -68.52170890092515, 'thumb_original_url': 'https://scontent-cdg4-1.xx.fbcdn.net/m1/v/t6/An8a6ibC1vdNSRsGeNnnjcQ7FDC37i3BULKpNMRhOvxs1ZiW2XZ3yyR_4ao0BAJO6zKrDvb_BM5kU1B7nyEFFHS7XmUQ5K_1iwyJ-mLilffmhGRdrYxdn2nOsa_yHgzHQzLS-yxgBisFSgmRpinyYQo?ccb=10-5&oh=00_AfDdMg90kfyiqYJUYDfBTekgI27NRoVTKv7LAlADXKUNWQ&oe=650F82E0&_nc_sid=201bca', 'country': 'BO', 'sequence': '9FfKGIrEmNDcpWUdOZY5Pn', 'captured_at': '1641284307000', 'lon_bin': 30.0, 'lat_bin': 27.0, 'cell': '(30, 27)', 'region': 'La Paz', 'sub-region': 'nan', 'city': 'Curahuara de Carangas', 'land_cover': 3.0, 'road_index': 3.114021222, 'drive_side': 0.0, 'climate': 7.0, 'soil': 5.0, 'dist_sea': 1.3377991682582158, 'quadtree_10_5000': 120, 'quadtree_10_25000': 17, 'quadtree_10_1000': 356, 'quadtree_10_50000': 14, 'quadtree_10_12500': 49, 'quadtree_10_500': 530, 'quadtree_10_2500': 179, 'unique_region': 'La Paz_BO', 'unique_sub-region': 'nan', 'unique_city': 'Curahuara de Carangas_NaN_La Paz_BO', 'unique_country': 'BO', 'creator_username': 'rodolfovar', 'creator_id': '100636458852740.0'}\n",
      "----------------------------------------------------\n",
      "Example 3:\n",
      "{'image': <PIL.JpegImagePlugin.JpegImageFile image mode=RGB size=910x512 at 0x1A1F86F7A00>, 'latitude': -21.681752571116, 'longitude': -45.342662937634, 'thumb_original_url': 'https://scontent-cdg4-3.xx.fbcdn.net/m1/v/t6/An-uV-W8ackAb_XX3k2iRqjCsjOeHS6Hb7vWIo-IwixW_shVM6SDWKFpaRQ0cqEG4_SelLIwXhiwoFRY2CjCyhM6qGaM8KIkHRtyhQmjErOueGLZYzlTwkUZ2m59efMcVBx7qwtNlSkJEABJZ7gbZQ?ccb=10-5&oh=00_AfB8s8XUV4HRykYIQ2D6X8ayObJSGWGz4hitrauUf-ZXKQ&oe=650F4AD0&_nc_sid=201bca', 'country': 'BR', 'sequence': '55yhp60yw80mrs2dr9qolf', 'captured_at': '1571736422000', 'lon_bin': 36.0, 'lat_bin': 24.0, 'cell': '(36, 24)', 'region': 'Minas Gerais', 'sub-region': 'Tres Coracoes', 'city': 'Tres Coracoes', 'land_cover': 5.0, 'road_index': 3.115480423, 'drive_side': 0.0, 'climate': 11.0, 'soil': 8.0, 'dist_sea': 0.7434747498335538, 'quadtree_10_5000': 103, 'quadtree_10_25000': 14, 'quadtree_10_1000': 323, 'quadtree_10_50000': 11, 'quadtree_10_12500': 45, 'quadtree_10_500': 485, 'quadtree_10_2500': 153, 'unique_region': 'Minas Gerais_BR', 'unique_sub-region': 'Tres Coracoes_Minas Gerais_BR', 'unique_city': 'Tres Coracoes_Tres Coracoes_Minas Gerais_BR', 'unique_country': 'BR', 'creator_username': 'marciosampaio', 'creator_id': '102898865287539.0'}\n",
      "----------------------------------------------------\n",
      "Example 4:\n",
      "{'image': <PIL.JpegImagePlugin.JpegImageFile image mode=RGB size=880x512 at 0x1A1F99BC4C0>, 'latitude': 57.075202880597, 'longitude': -4.0841300313118, 'thumb_original_url': 'https://scontent-cdg4-3.xx.fbcdn.net/m1/v/t6/An9P94BpWRNbYFfwf64Lcbtq45OWYvj8YAIS8CLF9UiFvbJztpfh68AV-MOkW7LY5JigKKyk2w1KG0d07icjiz-vv2--R3A3k45C_tXSw4XpnUkubE9EGFpILSGxwnbbuO57I1G6tRDpYzL-4pp6oQ?ccb=10-5&oh=00_AfCJ-3JEAAw5VibmwnMr-QuNb8XpcHmnjmYCQyOlvZcsHA&oe=650F2DD6&_nc_sid=201bca', 'country': 'GB', 'sequence': '80TA4zqxkLf11kRbdHyJ_Q', 'captured_at': '1519307090000', 'lon_bin': 48.0, 'lat_bin': 83.0, 'cell': '(48, 83)', 'region': 'Scotland', 'sub-region': 'Highland', 'city': 'Kingussie', 'land_cover': 3.0, 'road_index': 5.107717991, 'drive_side': 0.0, 'climate': 15.0, 'soil': 11.0, 'dist_sea': 0.2309008213232262, 'quadtree_10_5000': 1469, 'quadtree_10_25000': 260, 'quadtree_10_1000': 5940, 'quadtree_10_50000': 142, 'quadtree_10_12500': 561, 'quadtree_10_500': 9449, 'quadtree_10_2500': 2840, 'unique_region': 'Scotland_GB', 'unique_sub-region': 'Highland_Scotland_GB', 'unique_city': 'Kingussie_Highland_Scotland_GB', 'unique_country': 'GB', 'creator_username': 'hobgoblin', 'creator_id': '101491278760100.0'}\n",
      "----------------------------------------------------\n",
      "Example 5:\n",
      "{'image': <PIL.JpegImagePlugin.JpegImageFile image mode=RGB size=682x512 at 0x1A20451F3D0>, 'latitude': 36.817500000367, 'longitude': -116.89922129968, 'thumb_original_url': 'https://scontent-cdg4-3.xx.fbcdn.net/m1/v/t6/An8dEYMHxv5Jq3PNFO6d90PHQKBF39wDyZauRDUTbmaMJ2-tMNrzk-xKLLmsRoJjPx68zcGffs_IZp2Pj5T6ywcmLbXCEFunxlpYPES9mp9gZTXbur98IqcF67-jAOHqGB8bm4jqY90kb1I47nRNfg?ccb=10-5&oh=00_AfCJr1QPyeoPQIfm40DjEMtxBxCSqpX7eJBuuZ_ZHzQSLw&oe=650F6FC5&_nc_sid=201bca', 'country': 'US', 'sequence': '3hp40fkav9lrun1ia07ztv', 'captured_at': '1583862260000', 'lon_bin': 16.0, 'lat_bin': 67.0, 'cell': '(16, 67)', 'region': 'Nevada', 'sub-region': 'Nye County', 'city': 'Beatty', 'land_cover': 5.0, 'road_index': 5.733500481, 'drive_side': 0.0, 'climate': 5.0, 'soil': 9.0, 'dist_sea': 1.7080638284034069, 'quadtree_10_5000': 611, 'quadtree_10_25000': 97, 'quadtree_10_1000': 2227, 'quadtree_10_50000': 56, 'quadtree_10_12500': 233, 'quadtree_10_500': 3510, 'quadtree_10_2500': 1159, 'unique_region': 'Nevada_US', 'unique_sub-region': 'Nye County_Nevada_US', 'unique_city': 'Beatty_Nye County_Nevada_US', 'unique_country': 'US', 'creator_username': 'hshearer', 'creator_id': '100215708894912.0'}\n",
      "----------------------------------------------------\n"
     ]
    }
   ],
   "source": [
    "for i, example in enumerate(dataset):\n",
    "    if i == 5:\n",
    "        break\n",
    "    print(f\"Example {i+1}:\")\n",
    "    print(example)\n",
    "    image = example['image']\n",
    "    image.show()\n",
    "    print(\"----------------------------------------------------\")"
   ]
  },
  {
   "cell_type": "code",
   "execution_count": null,
   "metadata": {},
   "outputs": [],
   "source": []
  }
 ],
 "metadata": {
  "kernelspec": {
   "display_name": "CLIP-GG",
   "language": "python",
   "name": "python3"
  },
  "language_info": {
   "codemirror_mode": {
    "name": "ipython",
    "version": 3
   },
   "file_extension": ".py",
   "mimetype": "text/x-python",
   "name": "python",
   "nbconvert_exporter": "python",
   "pygments_lexer": "ipython3",
   "version": "3.9.21"
  }
 },
 "nbformat": 4,
 "nbformat_minor": 2
}
